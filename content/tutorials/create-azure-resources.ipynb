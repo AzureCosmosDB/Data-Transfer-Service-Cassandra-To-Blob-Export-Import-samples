{
    "metadata": {
        "kernelspec": {
            "name": "powershell",
            "display_name": "PowerShell",
            "language": "powershell"
        },
        "language_info": {
            "name": "powershell",
            "codemirror_mode": "shell",
            "mimetype": "text/x-sh",
            "file_extension": ".ps1"
        },
        "extensions": {
            "azuredatastudio": {
                "version": 1,
                "views": []
            }
        }
    },
    "nbformat_minor": 2,
    "nbformat": 4,
    "cells": [
        {
            "cell_type": "markdown",
            "source": [
                "## Create Azure Resources - Cosmos DB Account & Azure storage account using AZ CLI\n",
                "\n",
                "Use this notebook if you need to create the Azure resources in order to try out DTS."
            ],
            "metadata": {
                "azdata_cell_guid": "e9226cb9-04f7-4a7a-b816-7f3cb43028c5"
            },
            "attachments": {}
        },
        {
            "cell_type": "markdown",
            "source": [
                "### Login to the subscription"
            ],
            "metadata": {
                "azdata_cell_guid": "6874e84b-f14d-4912-a4bb-29c234be4b8b"
            }
        },
        {
            "cell_type": "code",
            "source": [
                "az login\r\n",
                "az cloud set --name AzureCloud\r\n",
                "az account set --subscription $subscription\r\n",
                "if  ($(az group exists --name $rg) -eq $false) { az group create --name $rg --location $location }\r\n",
                "az config set defaults.group=$rg"
            ],
            "metadata": {
                "azdata_cell_guid": "e63c824f-2878-4eaf-996b-577a921e92db",
                "tags": [
                    "hide_input"
                ]
            },
            "outputs": [],
            "execution_count": null
        },
        {
            "cell_type": "markdown",
            "source": [
                "### Provide Sub Id, Resource Group, Cosmos DB Account Name, Storage Account and Region"
            ],
            "metadata": {
                "azdata_cell_guid": "a08f5a00-9813-4fdf-afff-9b1a793fb9ce"
            },
            "attachments": {}
        },
        {
            "cell_type": "code",
            "source": [
                "$subscription = \"subscriptionid\"\r\n",
                "$rg = \"testrg\"\r\n",
                "$cosmosdbaccountname = \"testcosmosdbaccount\"\r\n",
                "$storageaccount = \"teststorageaccount\" #only lowercase letters and numbers\r\n",
                "$location = \"eastus\""
            ],
            "metadata": {
                "azdata_cell_guid": "e6e928f0-6de8-4042-b852-b3bcebf24128",
                "tags": [
                    "parameters"
                ]
            },
            "outputs": [],
            "execution_count": null
        },
        {
            "cell_type": "markdown",
            "source": [
                "### Create a resource group"
            ],
            "metadata": {
                "azdata_cell_guid": "b4e9a4cb-cfa0-4187-9cfa-a78824f50a4e"
            }
        },
        {
            "cell_type": "code",
            "source": [
                "if  ($(az group exists --name $rg) -eq $false) { az group create --name $rg --location $location }"
            ],
            "metadata": {
                "azdata_cell_guid": "72ac83bb-ec9c-473a-bea4-cda6f8742d85"
            },
            "outputs": [],
            "execution_count": null
        },
        {
            "cell_type": "markdown",
            "source": [
                "### Create a Cosmos DB Cassandra API Account"
            ],
            "metadata": {
                "azdata_cell_guid": "3007a7fa-36a8-4695-8ecd-3c4b60fff600"
            },
            "attachments": {}
        },
        {
            "cell_type": "code",
            "source": [
                "az cosmosdb create -n $cosmosdbaccountname -g $rg --capabilities EnableCassandra"
            ],
            "metadata": {
                "azdata_cell_guid": "439e03dc-fbe9-4692-b284-7c4ce06043c1",
                "tags": []
            },
            "outputs": [],
            "execution_count": null
        },
        {
            "cell_type": "markdown",
            "source": [
                "###  Create an Azure Storage Account"
            ],
            "metadata": {
                "azdata_cell_guid": "77dc2e7a-9b37-44ca-a696-942896130aa7"
            }
        },
        {
            "cell_type": "code",
            "source": [
                "az storage account create -n $storageaccount -g $rg -l $location --sku Standard_LRS"
            ],
            "metadata": {
                "azdata_cell_guid": "fdad0161-f5a4-4fdc-8786-6b3d7fdf6e87",
                "tags": []
            },
            "outputs": [],
            "execution_count": null
        }
    ]
}