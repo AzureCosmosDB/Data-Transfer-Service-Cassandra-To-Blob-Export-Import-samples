{
    "metadata": {
        "kernelspec": {
            "name": "powershell",
            "display_name": "PowerShell",
            "language": "powershell"
        },
        "language_info": {
            "name": "powershell",
            "codemirror_mode": "shell",
            "mimetype": "text/x-sh",
            "file_extension": ".ps1"
        },
        "extensions": {
            "azuredatastudio": {
                "version": 1,
                "views": []
            }
        }
    },
    "nbformat_minor": 2,
    "nbformat": 4,
    "cells": [
        {
            "cell_type": "markdown",
            "source": [
                "## Run jobs to Export data from Cassandra API account to Blob Storage and Import from Blob Storage to Cassandra API account.\n",
                "\n",
                "**Important!** 'data transfer service' & 'managed identity' are necessary before proceeding.   \n",
                "Make sure you have gone through both of these steps -\n",
                "\n",
                "- Use [this notebook](.\\managed-identity.ipynb) to enable managed identity b/w Cosmos DB and Azure Storage Account.\n",
                "- Use [this notebook](.\\provision-data-transfer-service.ipynb) for provisioning DTS service"
            ],
            "metadata": {
                "azdata_cell_guid": "803a5336-9fc2-423d-9448-920af14657c3"
            },
            "attachments": {}
        },
        {
            "cell_type": "markdown",
            "source": [
                "### Login to your Subscription."
            ],
            "metadata": {
                "azdata_cell_guid": "488149ee-63e9-41b4-bf55-291a971d91fc"
            },
            "attachments": {}
        },
        {
            "cell_type": "code",
            "source": [
                "az login"
            ],
            "metadata": {
                "azdata_cell_guid": "e10e968a-d014-4d5d-a853-b773d157c841"
            },
            "outputs": [],
            "execution_count": null
        },
        {
            "cell_type": "markdown",
            "source": [
                "### Provide Sub Id, Resource Group, Cosmos DB Account Name, Storage Account and Region"
            ],
            "metadata": {
                "azdata_cell_guid": "c2c18349-d275-42f2-909b-1f45b5df5f26"
            },
            "attachments": {}
        },
        {
            "cell_type": "code",
            "source": [
                "$subscription = \"subId\"\r\n",
                "$rg = \"rgName\"\r\n",
                "$cosmosdbaccountname = \"cosmosDbAccountName\"\r\n",
                "$storageaccount = \"stgAccName\" #only lowercase letters and numbers\r\n",
                "$location = \"centralus\"\r\n",
                "$armlocation = \"centraluseuap\""
            ],
            "metadata": {
                "azdata_cell_guid": "ed7cf454-7e9e-4acf-bb24-b621899760a0",
                "tags": [
                    "parameters"
                ]
            },
            "outputs": [],
            "execution_count": null
        },
        {
            "cell_type": "markdown",
            "source": [
                "### Export a Cassandra Table"
            ],
            "metadata": {
                "azdata_cell_guid": "501310f1-6a8e-4255-aa82-57696af84998"
            },
            "attachments": {}
        },
        {
            "cell_type": "code",
            "source": [
                "$exportJobname=\"exportjob115\"\r\n",
                "$exportkeyspace=\"test\"\r\n",
                "$exporttable=\"cassandratest\"\r\n",
                "$exportstoragecontainer=\"testcontainer\"\r\n",
                "az cosmosdb dts export --account-name  $cosmosdbaccountname -g $rg --job-name $exportJobname --cassandra-table keyspace=$exportkeyspace table=$exporttable --blob-container name=$exportstoragecontainer url=https://$storageaccount.blob.core.windows.net/"
            ],
            "metadata": {
                "azdata_cell_guid": "b781d0f7-8a51-4443-8907-bddf70b90f50"
            },
            "outputs": [],
            "execution_count": null
        },
        {
            "cell_type": "markdown",
            "source": [
                "Display export job status"
            ],
            "metadata": {
                "azdata_cell_guid": "1e63f78e-51c9-4149-aad9-2b9d19b239f8"
            },
            "attachments": {}
        },
        {
            "cell_type": "code",
            "source": [
                "az cosmosdb dts show  --account-name  $cosmosdbaccountname -g $rg --job-name $exportJobname"
            ],
            "metadata": {
                "azdata_cell_guid": "63c180a3-1aa7-4135-9587-16c2b4ea1d49"
            },
            "outputs": [],
            "execution_count": null
        },
        {
            "cell_type": "markdown",
            "source": [
                "### Import a Cassandra Table\n",
                "\n",
                "**Important!** By default import creates a collection with 400 RUS, if the size of the data is big and requires more RUS, please create a destination table manually with enough RUs, and ensure that the table schema matches with exported data.\n",
                "\n",
                "**Note:** Export data format is Avro and can be viewed using Avro tools. Please note that don't open AVRO files using online tools if it has sensitive information (\\*\\*\\*\\* security risk \\*\\*\\*\\*)"
            ],
            "metadata": {
                "azdata_cell_guid": "c0cc8db4-05f5-411a-9c89-bcc1be4b05e1"
            },
            "attachments": {}
        },
        {
            "cell_type": "code",
            "source": [
                "$importJobname=\"importjob115\"\r\n",
                "$importkeyspace=\"test2\"\r\n",
                "$importtable=\"cassandratest2\"\r\n",
                "$importstoragecontainer=\"testcontainer\"\r\n",
                "\r\n",
                "az cosmosdb dts import --account-name  $cosmosdbaccountname -g $rg --job-name $importJobname --cassandra-table keyspace=$importkeyspace table=$importtable --blob-container name=$importstoragecontainer url=https://$storageaccount.blob.core.windows.net/"
            ],
            "metadata": {
                "azdata_cell_guid": "8d02590d-4b95-48e5-ae01-7b6f5967e6de"
            },
            "outputs": [],
            "execution_count": null
        },
        {
            "cell_type": "markdown",
            "source": [
                "Display import job status"
            ],
            "metadata": {
                "azdata_cell_guid": "47cc0645-3ee6-4928-bd37-538d917a3b52"
            },
            "attachments": {}
        },
        {
            "cell_type": "code",
            "source": [
                "az cosmosdb dts show  --account-name  $cosmosdbaccountname -g $rg --job-name $importJobname"
            ],
            "metadata": {
                "azdata_cell_guid": "ccf48603-460f-49fc-ba56-cc78250a16bc"
            },
            "outputs": [],
            "execution_count": null
        }
    ]
}