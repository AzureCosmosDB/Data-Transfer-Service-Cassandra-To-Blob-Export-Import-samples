{
    "cells": [
        {
            "attachments": {},
            "cell_type": "markdown",
            "metadata": {
                "azdata_cell_guid": "c203d004-bab9-47d2-b578-2302caac8dae"
            },
            "source": [
                "## Private Preview: Provision a data transfer service in Cosmos DB"
            ]
        },
        {
            "attachments": {},
            "cell_type": "markdown",
            "metadata": {
                "azdata_cell_guid": "9208b484-eab1-40d3-b50e-d679b8fab192"
            },
            "source": [
                "### **Important!**\n",
                "\n",
                "Sign-up to the Data Transfer Service [here](https://forms.office.com/r/Hv0pwdn3iz) to request this capability on your subscription, if you haven't yet!\n",
                "\n",
                "Note: There is a charge associated with this transfer and shows up on your invoice as 'Cluster compute'.\n",
                "\n",
                "Contacts: [shwetn@microsoft.com](mailto:shwetn@microsoft.com), [flnarenj@microsoft.com](mailto:flnarenj@microsoft.com)"
            ]
        },
        {
            "attachments": {},
            "cell_type": "markdown",
            "metadata": {
                "azdata_cell_guid": "0b4070cc-e751-4341-a23d-c6ef1a0fe1bf"
            },
            "source": [
                "### Login to the Subscription."
            ]
        },
        {
            "cell_type": "code",
            "execution_count": null,
            "metadata": {
                "azdata_cell_guid": "1b13666e-c4e6-41d9-ba57-8e2de979a919",
                "tags": []
            },
            "outputs": [],
            "source": [
                "az login"
            ]
        },
        {
            "attachments": {},
            "cell_type": "markdown",
            "metadata": {
                "azdata_cell_guid": "b4d6f560-dbc1-4c78-aff5-c55d1568582d"
            },
            "source": [
                "### Provide Sub Id, Resource Group, Cosmos DB Account Name, Storage Account and Region  \n",
                "**Note:** armlocation is required for private preview az cli extension, _please don't modify it_"
            ]
        },
        {
            "cell_type": "code",
            "execution_count": null,
            "metadata": {
                "azdata_cell_guid": "8df6abdf-fcea-43fd-9ac4-c227de375fc4"
            },
            "outputs": [],
            "source": [
                "$subscription = \"subId\"\n",
                "$rg = \"rgName\"\n",
                "$cosmosdbaccountname = \"cosmosDbAccountName\"\n",
                "$location = \"region\"\n",
                "$armlocation = \"centraluseuap\""
            ]
        },
        {
            "attachments": {},
            "cell_type": "markdown",
            "metadata": {
                "azdata_cell_guid": "36c7b1e0-28e3-48b8-aade-4eb8af8047fd"
            },
            "source": [
                "### Load Data Transfer Private AZ CLI Package\n",
                "\n",
                "Please ignore below warning and error in the output(this is common if you re-execute the script):\n",
                "\n",
                "- WARNING: Command group 'config' is experimental and under development\n",
                "    \n",
                "- ERROR: The extension cosmosdb-preview already exists"
            ]
        },
        {
            "cell_type": "code",
            "execution_count": null,
            "metadata": {
                "azdata_cell_guid": "e4db653c-e2f1-4212-9fd8-95be0fe9c0ef"
            },
            "outputs": [],
            "source": [
                "az cloud update --endpoint-resource-manager \"https://$armlocation.management.azure.com\"\n",
                "az config set defaults.location=$location --local\n",
                "az extension add --source https://dtsclidist.blob.core.windows.net/cli-private-preview/V2/cosmosdb_preview-0.10.0-py2.py3-none-any.whl -y"
            ]
        },
        {
            "cell_type": "markdown",
            "metadata": {
                "azdata_cell_guid": "46cb5a89-cb48-48b7-9856-a7af29a34e73"
            },
            "source": [
                "### Provision a cluster"
            ]
        },
        {
            "cell_type": "code",
            "execution_count": null,
            "metadata": {
                "azdata_cell_guid": "54b4100e-8e91-4d83-86aa-34d7c49b4765"
            },
            "outputs": [],
            "source": [
                "az cosmosdb service create --account-name $cosmosdbaccountname -g $rg --service-name DataTransferService --kind \"DataTransferService\" --count 1 --size \"Cosmos.D4s\""
            ]
        },
        {
            "attachments": {},
            "cell_type": "markdown",
            "metadata": {
                "azdata_cell_guid": "fda1e2a7-6dd5-4616-911b-f3a1a4c1a7e1"
            },
            "source": [
                "List cluster corresponding to the Cosmos DB account"
            ]
        },
        {
            "cell_type": "code",
            "execution_count": null,
            "metadata": {
                "azdata_cell_guid": "d26551dc-18c5-4c5f-b735-b1ae16131b13"
            },
            "outputs": [],
            "source": [
                "az cosmosdb service list --account-name $cosmosdbaccountname -g $rg"
            ]
        }
    ],
    "metadata": {
        "extensions": {
            "azuredatastudio": {
                "version": 1,
                "views": []
            }
        },
        "kernelspec": {
            "display_name": "PowerShell",
            "language": "powershell",
            "name": "powershell"
        },
        "language_info": {
            "codemirror_mode": "shell",
            "file_extension": ".ps1",
            "mimetype": "text/x-sh",
            "name": "powershell"
        }
    },
    "nbformat": 4,
    "nbformat_minor": 2
}
